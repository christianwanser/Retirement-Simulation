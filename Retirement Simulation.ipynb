{
 "cells": [
  {
   "cell_type": "code",
   "execution_count": 1,
   "id": "3d6465ac",
   "metadata": {},
   "outputs": [],
   "source": [
    "\n",
    "import math\n",
    "\n",
    "from scipy.stats import norm\n",
    "\n",
    "import numpy as np\n",
    "\n",
    "import pandas as pd\n",
    "\n",
    "import matplotlib.pyplot as plt\n"
   ]
  },
  {
   "cell_type": "code",
   "execution_count": 2,
   "id": "c8aecae3",
   "metadata": {},
   "outputs": [],
   "source": [
    "\n",
    "np.random.seed(1738)\n",
    "\n",
    "def format_float(value):\n",
    "    return f'${value:,.2f}'\n",
    "\n",
    "pd.options.display.float_format = format_float\n"
   ]
  },
  {
   "cell_type": "code",
   "execution_count": 3,
   "id": "79f8bef4",
   "metadata": {},
   "outputs": [],
   "source": [
    "\n",
    "\n",
    "sims = 1000\n",
    "\n",
    "# pre-retirement inputs\n",
    "init_savings = 0\n",
    "init_annual_savings = 19500\n",
    "annual_savings_growth = .02\n",
    "yrs_to_retire = 40\n",
    "pre_return = .06\n",
    "pre_vol = .04\n",
    "\n",
    "# post-retirement inputs\n",
    "yrs_in_retire = 25\n",
    "annual_COL = 250000\n",
    "post_return = .06\n",
    "post_vol = .04\n",
    "\n",
    "# include volatility in simulation?\n",
    "yes_vol = \"y\"\n",
    "\n"
   ]
  },
  {
   "cell_type": "code",
   "execution_count": 4,
   "id": "78f85b7a",
   "metadata": {},
   "outputs": [
    {
     "data": {
      "text/html": [
       "<div>\n",
       "<style scoped>\n",
       "    .dataframe tbody tr th:only-of-type {\n",
       "        vertical-align: middle;\n",
       "    }\n",
       "\n",
       "    .dataframe tbody tr th {\n",
       "        vertical-align: top;\n",
       "    }\n",
       "\n",
       "    .dataframe thead th {\n",
       "        text-align: right;\n",
       "    }\n",
       "</style>\n",
       "<table border=\"1\" class=\"dataframe\">\n",
       "  <thead>\n",
       "    <tr style=\"text-align: right;\">\n",
       "      <th></th>\n",
       "      <th>Simulation Results</th>\n",
       "    </tr>\n",
       "  </thead>\n",
       "  <tbody>\n",
       "    <tr>\n",
       "      <th>Average</th>\n",
       "      <td>$5,327,610.25</td>\n",
       "    </tr>\n",
       "    <tr>\n",
       "      <th>STD</th>\n",
       "      <td>$4,305,511.00</td>\n",
       "    </tr>\n",
       "  </tbody>\n",
       "</table>\n",
       "</div>"
      ],
      "text/plain": [
       "         Simulation Results\n",
       "Average       $5,327,610.25\n",
       "STD           $4,305,511.00"
      ]
     },
     "metadata": {},
     "output_type": "display_data"
    }
   ],
   "source": [
    "\n",
    "sim_results = []\n",
    "\n",
    "for s in range(1,sims+1):\n",
    "    \n",
    "    savings = init_savings\n",
    "    annual_savings = init_annual_savings\n",
    "    \n",
    "    # pre-retirement\n",
    "    for j in range(1,yrs_to_retire+1):\n",
    "        if yes_vol == \"y\":\n",
    "            Z = norm.ppf(np.random.uniform(0,1))\n",
    "        else:\n",
    "            Z = 0\n",
    "        annual_savings = annual_savings * (1 + annual_savings_growth)\n",
    "        savings = savings * math.exp(pre_return + pre_vol * Z) + annual_savings\n",
    "    \n",
    "    # post-retirement\n",
    "    for j in range(1,yrs_in_retire+1):\n",
    "        if yes_vol == \"y\":\n",
    "            Z = norm.ppf(np.random.uniform(0,1))\n",
    "        else:\n",
    "            Z = 0\n",
    "        savings = savings * math.exp(post_return + post_vol * Z) - annual_COL\n",
    "        \n",
    "    sim_results.append(savings)\n",
    "    \n",
    "sim_average = np.mean(sim_results)\n",
    "\n",
    "sim_std = np.std(sim_results)\n",
    "\n",
    "table = pd.DataFrame([sim_average,sim_std],index=[\"Average\",\"STD\"],columns=[\"Simulation Results\"])\n",
    "display(table)\n",
    "\n",
    "        "
   ]
  },
  {
   "cell_type": "code",
   "execution_count": 5,
   "id": "e7ebfa65",
   "metadata": {},
   "outputs": [
    {
     "data": {
      "image/png": "[encoded data removed]",
      "text/plain": [
       "<Figure size 432x288 with 1 Axes>"
      ]
     },
     "metadata": {
      "needs_background": "light"
     },
     "output_type": "display_data"
    }
   ],
   "source": [
    "plt.hist(sim_results)\n",
    "plt.show()"
   ]
  },
  {
   "cell_type": "code",
   "execution_count": null,
   "id": "e0d1a0f2",
   "metadata": {},
   "outputs": [],
   "source": []
  }
 ],
 "metadata": {
  "kernelspec": {
   "display_name": "Python 3",
   "language": "python",
   "name": "python3"
  },
  "language_info": {
   "codemirror_mode": {
    "name": "ipython",
    "version": 3
   },
   "file_extension": ".py",
   "mimetype": "text/x-python",
   "name": "python",
   "nbconvert_exporter": "python",
   "pygments_lexer": "ipython3",
   "version": "3.7.7"
  }
 },
 "nbformat": 4,
 "nbformat_minor": 5
}
