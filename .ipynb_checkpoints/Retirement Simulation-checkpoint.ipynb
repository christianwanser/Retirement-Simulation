{
 "cells": [
  {
   "cell_type": "code",
   "execution_count": 1,
   "id": "3d6465ac",
   "metadata": {},
   "outputs": [],
   "source": [
    "\n",
    "import math\n",
    "\n",
    "from scipy.stats import norm\n",
    "\n",
    "import numpy as np\n",
    "\n",
    "import pandas as pd\n",
    "\n",
    "import matplotlib.pyplot as plt\n"
   ]
  },
  {
   "cell_type": "code",
   "execution_count": 2,
   "id": "c8aecae3",
   "metadata": {},
   "outputs": [],
   "source": [
    "\n",
    "np.random.seed(1738)\n",
    "\n",
    "def format_float(value):\n",
    "    return f'${value:,.2f}'\n",
    "\n",
    "pd.options.display.float_format = format_float\n"
   ]
  },
  {
   "cell_type": "code",
   "execution_count": 3,
   "id": "79f8bef4",
   "metadata": {},
   "outputs": [],
   "source": [
    "\n",
    "\n",
    "sims = 1000  # number of simulations\n",
    "\n",
    "# pre-retirement inputs\n",
    "init_savings = 0  # initial savings in retirement account\n",
    "init_annual_savings = 19500  # initial annual contributions to retirement account\n",
    "annual_savings_growth = .02  # annual growth in contributions\n",
    "yrs_to_retire = 40  # years from retirement\n",
    "pre_return = .06  # return on retirement account before retirement age\n",
    "pre_vol = .04  # market volatility before retirement age\n",
    "\n",
    "# post-retirement inputs\n",
    "yrs_in_retire = 25  # years of retirement\n",
    "annual_COL = 250000  # annual cost of living (expenses)\n",
    "post_return = .04  # return on retirement account after retirement age (likely lower returns due to lower risk)\n",
    "post_vol = .01  # market volatility after retirement age (you've likely shifted to less risky investments)\n",
    "\n",
    "# include volatility in simulation?\n",
    "yes_vol = \"y\"\n",
    "\n"
   ]
  },
  {
   "cell_type": "code",
   "execution_count": 4,
   "id": "78f85b7a",
   "metadata": {},
   "outputs": [
    {
     "data": {
      "text/html": [
       "<div>\n",
       "<style scoped>\n",
       "    .dataframe tbody tr th:only-of-type {\n",
       "        vertical-align: middle;\n",
       "    }\n",
       "\n",
       "    .dataframe tbody tr th {\n",
       "        vertical-align: top;\n",
       "    }\n",
       "\n",
       "    .dataframe thead th {\n",
       "        text-align: right;\n",
       "    }\n",
       "</style>\n",
       "<table border=\"1\" class=\"dataframe\">\n",
       "  <thead>\n",
       "    <tr style=\"text-align: right;\">\n",
       "      <th></th>\n",
       "      <th>End of Retirement Balance</th>\n",
       "    </tr>\n",
       "  </thead>\n",
       "  <tbody>\n",
       "    <tr>\n",
       "      <th>Average</th>\n",
       "      <td>$1,111,294.10</td>\n",
       "    </tr>\n",
       "    <tr>\n",
       "      <th>STD</th>\n",
       "      <td>$2,084,147.37</td>\n",
       "    </tr>\n",
       "  </tbody>\n",
       "</table>\n",
       "</div>"
      ],
      "text/plain": [
       "         End of Retirement Balance\n",
       "Average              $1,111,294.10\n",
       "STD                  $2,084,147.37"
      ]
     },
     "metadata": {},
     "output_type": "display_data"
    }
   ],
   "source": [
    "\n",
    "sim_results = []\n",
    "\n",
    "for s in range(1,sims+1):\n",
    "    \n",
    "    savings = init_savings\n",
    "    annual_savings = init_annual_savings\n",
    "    \n",
    "    # pre-retirement (contributing to retirement account)\n",
    "    for j in range(1,yrs_to_retire+1):\n",
    "        if yes_vol == \"y\":\n",
    "            Z = norm.ppf(np.random.uniform(0,1))\n",
    "        else:\n",
    "            Z = 0\n",
    "        annual_savings = annual_savings * (1 + annual_savings_growth)\n",
    "        savings = savings * math.exp(pre_return + pre_vol * Z) + annual_savings\n",
    "    \n",
    "    # post-retirement (consuming retirement account)\n",
    "    for j in range(1,yrs_in_retire+1):\n",
    "        if yes_vol == \"y\":\n",
    "            Z = norm.ppf(np.random.uniform(0,1))\n",
    "        else:\n",
    "            Z = 0\n",
    "        savings = savings * math.exp(post_return + post_vol * Z) - annual_COL\n",
    "        \n",
    "    sim_results.append(savings)\n",
    "\n",
    "# determine average and std of savings balance upon the end of your retirement (end of life)\n",
    "# want this to be positive or at the very least 0\n",
    "sim_average = np.mean(sim_results)\n",
    "\n",
    "sim_std = np.std(sim_results)\n",
    "\n",
    "table = pd.DataFrame([sim_average,sim_std],index=[\"Average\",\"STD\"],columns=[\"End of Retirement Balance\"])\n",
    "display(table)\n",
    "\n",
    "        "
   ]
  },
  {
   "cell_type": "code",
   "execution_count": 5,
   "id": "e7ebfa65",
   "metadata": {},
   "outputs": [
    {
     "data": {
      "image/png": "[encoded data removed]",
      "text/plain": [
       "<Figure size 432x288 with 1 Axes>"
      ]
     },
     "metadata": {
      "needs_background": "light"
     },
     "output_type": "display_data"
    }
   ],
   "source": [
    "\n",
    "# plot histogram\n",
    "fig, ax = plt.subplots(1,1)\n",
    "ax.hist(sim_results)\n",
    "\n",
    "ax.set_title(\"Simulating End of Retirement Balance\")\n",
    "ax.set_xlabel('Balance')\n",
    "ax.set_ylabel('Count')\n",
    "\n",
    "plt.show()"
   ]
  },
  {
   "cell_type": "code",
   "execution_count": null,
   "id": "e0d1a0f2",
   "metadata": {},
   "outputs": [],
   "source": []
  }
 ],
 "metadata": {
  "kernelspec": {
   "display_name": "Python 3",
   "language": "python",
   "name": "python3"
  },
  "language_info": {
   "codemirror_mode": {
    "name": "ipython",
    "version": 3
   },
   "file_extension": ".py",
   "mimetype": "text/x-python",
   "name": "python",
   "nbconvert_exporter": "python",
   "pygments_lexer": "ipython3",
   "version": "3.7.7"
  }
 },
 "nbformat": 4,
 "nbformat_minor": 5
}
